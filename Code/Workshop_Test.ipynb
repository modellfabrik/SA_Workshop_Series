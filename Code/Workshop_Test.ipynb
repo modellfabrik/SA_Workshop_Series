{
 "cells": [
  {
   "cell_type": "code",
   "execution_count": null,
   "metadata": {
    "id": "0epn3CHUDzkt"
   },
   "outputs": [],
   "source": [
    "!git clone https://github.com/modellfabrik/SA_Workshop_Series.git"
   ]
  },
  {
   "cell_type": "code",
   "execution_count": null,
   "metadata": {
    "colab": {
     "base_uri": "https://localhost:8080/"
    },
    "collapsed": true,
    "executionInfo": {
     "elapsed": 109504,
     "status": "ok",
     "timestamp": 1743413309680,
     "user": {
      "displayName": "Abilash Madavath",
      "userId": "08402627640747827200"
     },
     "user_tz": -120
    },
    "id": "jBNPyhE-TzXs",
    "outputId": "fd904dbf-d0bf-445a-fc28-39069e9a41be"
   },
   "outputs": [],
   "source": [
    "# Install the ultralytics package which provides YOLOv11\n",
    "!pip install ultralytics"
   ]
  },
  {
   "cell_type": "markdown",
   "metadata": {
    "id": "EQKrjG8DUzvm"
   },
   "source": [
    "### Import necessary libraries"
   ]
  },
  {
   "cell_type": "code",
   "execution_count": null,
   "metadata": {
    "colab": {
     "base_uri": "https://localhost:8080/"
    },
    "executionInfo": {
     "elapsed": 3176,
     "status": "ok",
     "timestamp": 1743413328348,
     "user": {
      "displayName": "Abilash Madavath",
      "userId": "08402627640747827200"
     },
     "user_tz": -120
    },
    "id": "qUC1mM1aUv6H",
    "outputId": "a15a0be0-a39d-477a-afab-509dabe32085"
   },
   "outputs": [],
   "source": [
    "# For YOLOv8 object detection\n",
    "from ultralytics import YOLO"
   ]
  },
  {
   "cell_type": "code",
   "execution_count": null,
   "metadata": {
    "colab": {
     "base_uri": "https://localhost:8080/"
    },
    "executionInfo": {
     "elapsed": 4642,
     "status": "ok",
     "timestamp": 1743413077889,
     "user": {
      "displayName": "Abilash Madavath",
      "userId": "08402627640747827200"
     },
     "user_tz": -120
    },
    "id": "VHTAhBfaW-4F",
    "outputId": "8bfacee0-1e44-4808-ae9e-af7f17763d3f"
   },
   "outputs": [],
   "source": [
    "import torch\n",
    "print(\"CUDA available:\", torch.cuda.is_available())"
   ]
  },
  {
   "cell_type": "markdown",
   "metadata": {
    "id": "MkQYV0ieXNn5"
   },
   "source": [
    "### Load the Pre‑Trained YOLOv11 Model - Detect\n",
    "\n",
    "https://docs.ultralytics.com/tasks/detect/#models"
   ]
  },
  {
   "cell_type": "code",
   "execution_count": null,
   "metadata": {
    "colab": {
     "base_uri": "https://localhost:8080/"
    },
    "executionInfo": {
     "elapsed": 901,
     "status": "ok",
     "timestamp": 1743413413440,
     "user": {
      "displayName": "Abilash Madavath",
      "userId": "08402627640747827200"
     },
     "user_tz": -120
    },
    "id": "glKDsRAkXG2C",
    "outputId": "3aa1cf36-244f-4ba3-b5a2-8863affdc41d"
   },
   "outputs": [],
   "source": [
    "model = YOLO('yolo11n.pt')  # initialized with the pre-trained weights"
   ]
  },
  {
   "cell_type": "code",
   "execution_count": null,
   "metadata": {
    "colab": {
     "base_uri": "https://localhost:8080/"
    },
    "executionInfo": {
     "elapsed": 350,
     "status": "ok",
     "timestamp": 1743413421389,
     "user": {
      "displayName": "Abilash Madavath",
      "userId": "08402627640747827200"
     },
     "user_tz": -120
    },
    "id": "62KdTfJuVDvp",
    "outputId": "8f1a1c38-441f-46c5-96d8-5a1dd2f65106"
   },
   "outputs": [],
   "source": [
    "image_path = '/content/SA_Workshop_Series/Data/bus.jpg'"
   ]
  },
  {
   "cell_type": "code",
   "execution_count": null,
   "metadata": {},
   "outputs": [],
   "source": [
    "from PIL import Image\n",
    "\n",
    "img = Image.open(image_path)\n",
    "img.size"
   ]
  },
  {
   "cell_type": "code",
   "execution_count": null,
   "metadata": {
    "colab": {
     "base_uri": "https://localhost:8080/",
     "height": 1000
    },
    "executionInfo": {
     "elapsed": 215702,
     "status": "error",
     "timestamp": 1743159715976,
     "user": {
      "displayName": "Abilash Madavath",
      "userId": "08402627640747827200"
     },
     "user_tz": -60
    },
    "id": "TnipdvXVpetF",
    "outputId": "0c5e230a-a29b-4df9-f53c-6fa4a7892342"
   },
   "outputs": [],
   "source": [
    "# Run inference on the source\n",
    "\n",
    "\n",
    "# Run inference on with arguments\n",
    "# show_boxes = False\n",
    "# conf = 0.5\n",
    "# imgsz = 640\n",
    "# classes = [0, 1]\n",
    "\n",
    "model.predict(img, save=True, device = 'cpu', show_boxes=True, conf=0.4, imgsz=2336)"
   ]
  },
  {
   "cell_type": "code",
   "execution_count": null,
   "metadata": {
    "colab": {
     "base_uri": "https://localhost:8080/",
     "height": 736
    },
    "executionInfo": {
     "elapsed": 580,
     "status": "ok",
     "timestamp": 1743159138807,
     "user": {
      "displayName": "Abilash Madavath",
      "userId": "08402627640747827200"
     },
     "user_tz": -60
    },
    "id": "CCKwdHwbru7-",
    "outputId": "050e5391-8a16-493d-e3ae-18f8075b1207"
   },
   "outputs": [],
   "source": [
    "# For displaying images in Colab\n",
    "from google.colab.patches import cv2_imshow\n",
    "import numpy as np"
   ]
  },
  {
   "cell_type": "code",
   "execution_count": null,
   "metadata": {
    "id": "-FhAoaoxCHEH"
   },
   "outputs": [],
   "source": [
    "# Run object detection on the sample image\n",
    "\n",
    "results = model.predict(img, save=False, device = 'cpu', conf=0.7, imgsz = 2336,classes= None)\n",
    "\n",
    "result_pil = results[0].plot(font_size=15, line_width=3, pil=True)\n",
    "\n",
    "result_image = np.array(result_pil)\n",
    "# result_image = result_image[:, :, ::-1]\n",
    "\n",
    "cv2_imshow(result_image)\n",
    "\n",
    "# display(result_pil)"
   ]
  }
 ],
 "metadata": {
  "colab": {
   "provenance": []
  },
  "kernelspec": {
   "display_name": "base",
   "language": "python",
   "name": "python3"
  },
  "language_info": {
   "codemirror_mode": {
    "name": "ipython",
    "version": 3
   },
   "file_extension": ".py",
   "mimetype": "text/x-python",
   "name": "python",
   "nbconvert_exporter": "python",
   "pygments_lexer": "ipython3",
   "version": "3.12.3"
  }
 },
 "nbformat": 4,
 "nbformat_minor": 0
}
