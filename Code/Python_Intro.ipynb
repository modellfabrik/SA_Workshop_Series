{
 "cells": [
  {
   "cell_type": "code",
   "execution_count": null,
   "metadata": {},
   "outputs": [],
   "source": [
    "!git clone https://github.com/modellfabrik/SA_Workshop_Series.git"
   ]
  },
  {
   "cell_type": "markdown",
   "metadata": {
    "id": "nu8HWZLTySwz"
   },
   "source": [
    "### Was ist Colab?\n",
    "Colab, oder \"Colaboratory\", ermöglicht es euch, Python im Browser zu schreiben und auszuführen, mit:\n",
    "\n",
    "* Null Konfiguration erforderlich\n",
    "* Kostenloser Zugang zu GPUs\n",
    "* Einfaches Teilen\n",
    "\n",
    "##Eine Aussage drucken\n",
    "\n",
    "Um \"Hello, AI Enthusiasts!\" als Ausgabe anzuzeigen.\n",
    "\n",
    "Code: `print(\"Hello, AI Enthusiasts!\")`\n",
    "\n",
    "Ausgabe:\n",
    "Hello, AI Enthusiasts!"
   ]
  },
  {
   "cell_type": "code",
   "execution_count": null,
   "metadata": {
    "colab": {
     "base_uri": "https://localhost:8080/"
    },
    "executionInfo": {
     "elapsed": 40,
     "status": "ok",
     "timestamp": 1743156976754,
     "user": {
      "displayName": "Abilash Madavath",
      "userId": "08402627640747827200"
     },
     "user_tz": -60
    },
    "id": "u752RFODyO27",
    "outputId": "dd650fab-2572-4070-a50b-a85c8f885df6"
   },
   "outputs": [],
   "source": [
    "print(\"Hello, AI Enthusiasts!\")"
   ]
  },
  {
   "cell_type": "markdown",
   "metadata": {
    "id": "NALdHXKP0alQ"
   },
   "source": [
    "## Variablen & Datentypen\n",
    "In Python werden Variablen verwendet, um Datenwerte zu speichern, und sie sind dynamisch typisiert, was bedeutet, dass ihr deren Typ nicht explizit deklarieren müsst. Datentypen in Python umfassen Integers, Floats, Strings, Lists, Tuples, Dictionaries und mehr, die jeweils unterschiedliche Zwecke in der Programmierung erfüllen.\n",
    "\n",
    "### Zwei Zahlen addieren"
   ]
  },
  {
   "cell_type": "code",
   "execution_count": null,
   "metadata": {
    "colab": {
     "base_uri": "https://localhost:8080/"
    },
    "executionInfo": {
     "elapsed": 8,
     "status": "ok",
     "timestamp": 1743156274520,
     "user": {
      "displayName": "Abilash Madavath",
      "userId": "08402627640747827200"
     },
     "user_tz": -60
    },
    "id": "WpI00Q-70I2Q",
    "outputId": "616f82bc-9b6d-417f-caba-47148f7c0929"
   },
   "outputs": [],
   "source": [
    "x = 2\n",
    "y = 5\n",
    "\n",
    "print(x+y)"
   ]
  },
  {
   "cell_type": "markdown",
   "metadata": {
    "id": "uNVRFHET1BGw"
   },
   "source": [
    "## Funktionen\n",
    "In Python sind Funktionen wiederverwendbare Codeblöcke, die eine spezifische Aufgabe ausführen und mit dem Schlüsselwort `def` definiert werden."
   ]
  },
  {
   "cell_type": "code",
   "execution_count": null,
   "metadata": {
    "colab": {
     "base_uri": "https://localhost:8080/"
    },
    "executionInfo": {
     "elapsed": 17,
     "status": "ok",
     "timestamp": 1743156421195,
     "user": {
      "displayName": "Abilash Madavath",
      "userId": "08402627640747827200"
     },
     "user_tz": -60
    },
    "id": "tMQ2szKL1HW2",
    "outputId": "7d6b063a-537d-4b95-aaed-ff41599d7317"
   },
   "outputs": [],
   "source": [
    "def greetings(name):\n",
    "    return \"Hallo, \" + name + \"!\"\n",
    "\n",
    "print(greetings(\"Abi\"))"
   ]
  },
  {
   "cell_type": "markdown",
   "metadata": {
    "id": "1kWUU-YB2Tfe"
   },
   "source": [
    "## Python Packages\n",
    "\n",
    "* Python hat vorgefertigte Bibliotheken (Packages).\n",
    "* Vermeidet es, alles von Grund auf neu zu schreiben!\n",
    "\n",
    "### 1. Numpy Beispiel:\n",
    "Dieses Beispiel zeigt, wie ihr numpy importiert und ein einfaches Array erstellt."
   ]
  },
  {
   "cell_type": "code",
   "execution_count": null,
   "metadata": {
    "colab": {
     "base_uri": "https://localhost:8080/"
    },
    "executionInfo": {
     "elapsed": 12,
     "status": "ok",
     "timestamp": 1743156574919,
     "user": {
      "displayName": "Abilash Madavath",
      "userId": "08402627640747827200"
     },
     "user_tz": -60
    },
    "id": "gBNUgWAv2oLm",
    "outputId": "c8b87c7e-1036-4407-f044-c157bcbb05ab"
   },
   "outputs": [],
   "source": [
    "# Numpy-Bibliothek importieren\n",
    "import numpy as np\n",
    "\n",
    "# Erstellen eines 1D Numpy-Arrays\n",
    "array = np.array([1, 2, 3, 4, 5])\n",
    "\n",
    "# Das Array ausgeben\n",
    "print(\"Numpy Array:\", array)"
   ]
  },
  {
   "cell_type": "markdown",
   "metadata": {
    "id": "tHnjH5rM3eXQ"
   },
   "source": [
    "### 2. OpenCV Beispiel:\n",
    "Dieses Beispiel zeigt, wie ihr OpenCV (opencv) importiert und ein Bild einlest."
   ]
  },
  {
   "cell_type": "code",
   "execution_count": null,
   "metadata": {
    "colab": {
     "base_uri": "https://localhost:8080/",
     "height": 827
    },
    "executionInfo": {
     "elapsed": 1784,
     "status": "ok",
     "timestamp": 1743156674049,
     "user": {
      "displayName": "Abilash Madavath",
      "userId": "08402627640747827200"
     },
     "user_tz": -60
    },
    "id": "ECfmTgs23iUN",
    "outputId": "28033fb0-defc-4316-ab82-82282412c947"
   },
   "outputs": [],
   "source": [
    "# OpenCV-Bibliothek importieren\n",
    "import cv2\n",
    "from google.colab.patches import cv2_imshow\n",
    "\n",
    "# Bild mit OpenCV einlesen\n",
    "image = cv2.imread('/content/SA_Workshop_Series/Data/Sample_Image_office.jpg')\n",
    "\n",
    "# Das Bild in einem Fenster anzeigen\n",
    "cv2_imshow(image)"
   ]
  },
  {
   "cell_type": "markdown",
   "metadata": {
    "id": "8l3e_JPr4_op"
   },
   "source": [
    "## Bild vom Webcam aufnehmen"
   ]
  }
 ],
 "metadata": {
  "colab": {
   "provenance": []
  },
  "kernelspec": {
   "display_name": "Python 3",
   "name": "python3"
  },
  "language_info": {
   "name": "python"
  }
 },
 "nbformat": 4,
 "nbformat_minor": 0
}
