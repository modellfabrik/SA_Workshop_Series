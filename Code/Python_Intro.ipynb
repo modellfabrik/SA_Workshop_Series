{
 "cells": [
  {
   "cell_type": "code",
   "execution_count": null,
   "metadata": {},
   "outputs": [],
   "source": [
    "!git clone https://github.com/modellfabrik/SA_Workshop_Series.git"
   ]
  },
  {
   "cell_type": "markdown",
   "metadata": {
    "id": "nu8HWZLTySwz"
   },
   "source": [
    "### What is Colab?\n",
    "Colab, or \"Colaboratory\", allows you to write and execute Python in your browser, with\n",
    "\n",
    "* Zero configuration required\n",
    "* Access to GPUs free of charge\n",
    "* Easy sharing\n",
    "\n",
    "##Printing a Statement\n",
    "\n",
    "To dislpay \"Hello, AI Enthusiasts!\" as output.\n",
    "\n",
    "Code: `print(\"Hello, AI Enthusiasts!\")`\n",
    "\n",
    "Output: Hello, AI Enthusiasts!"
   ]
  },
  {
   "cell_type": "code",
   "execution_count": null,
   "metadata": {
    "colab": {
     "base_uri": "https://localhost:8080/"
    },
    "executionInfo": {
     "elapsed": 40,
     "status": "ok",
     "timestamp": 1743156976754,
     "user": {
      "displayName": "Abilash Madavath",
      "userId": "08402627640747827200"
     },
     "user_tz": -60
    },
    "id": "u752RFODyO27",
    "outputId": "dd650fab-2572-4070-a50b-a85c8f885df6"
   },
   "outputs": [],
   "source": [
    "print(\"Hello\")"
   ]
  },
  {
   "cell_type": "markdown",
   "metadata": {
    "id": "NALdHXKP0alQ"
   },
   "source": [
    "## Variables & Data Types\n",
    "In Python, variables are used to store data values, and they are dynamically typed, meaning you don’t need to declare their type explicitly. Data types in Python include integers, floats, strings, lists, tuples, dictionaries, and more, each serving different purposes in programming.\n",
    "\n",
    "### Adding 2 numbers"
   ]
  },
  {
   "cell_type": "code",
   "execution_count": null,
   "metadata": {
    "colab": {
     "base_uri": "https://localhost:8080/"
    },
    "executionInfo": {
     "elapsed": 8,
     "status": "ok",
     "timestamp": 1743156274520,
     "user": {
      "displayName": "Abilash Madavath",
      "userId": "08402627640747827200"
     },
     "user_tz": -60
    },
    "id": "WpI00Q-70I2Q",
    "outputId": "616f82bc-9b6d-417f-caba-47148f7c0929"
   },
   "outputs": [],
   "source": [
    "x = \"abi \"\n",
    "y = \"string \"\n",
    "\n",
    "print(x+y)"
   ]
  },
  {
   "cell_type": "markdown",
   "metadata": {
    "id": "uNVRFHET1BGw"
   },
   "source": [
    "## Functions\n",
    "In Python, functions are reusable blocks of code that perform a specific task and are defined using the `def` keyword."
   ]
  },
  {
   "cell_type": "code",
   "execution_count": null,
   "metadata": {
    "colab": {
     "base_uri": "https://localhost:8080/"
    },
    "executionInfo": {
     "elapsed": 17,
     "status": "ok",
     "timestamp": 1743156421195,
     "user": {
      "displayName": "Abilash Madavath",
      "userId": "08402627640747827200"
     },
     "user_tz": -60
    },
    "id": "tMQ2szKL1HW2",
    "outputId": "7d6b063a-537d-4b95-aaed-ff41599d7317"
   },
   "outputs": [],
   "source": [
    "def greetings(name, num):\n",
    "    return \"Hello, \" + name + \"!\"\n",
    "\n",
    "print(greetings(\"Abi\"))"
   ]
  },
  {
   "cell_type": "markdown",
   "metadata": {
    "id": "1kWUU-YB2Tfe"
   },
   "source": [
    "## Packages\n",
    "\n",
    "* Python has pre-built libraries.\n",
    "* Avoids writing everything from scratch!\n",
    "\n",
    "### 1. Numpy Example:\n",
    "This example demonstrates how to import numpy and create a basic array."
   ]
  },
  {
   "cell_type": "code",
   "execution_count": null,
   "metadata": {
    "colab": {
     "base_uri": "https://localhost:8080/"
    },
    "executionInfo": {
     "elapsed": 12,
     "status": "ok",
     "timestamp": 1743156574919,
     "user": {
      "displayName": "Abilash Madavath",
      "userId": "08402627640747827200"
     },
     "user_tz": -60
    },
    "id": "gBNUgWAv2oLm",
    "outputId": "c8b87c7e-1036-4407-f044-c157bcbb05ab"
   },
   "outputs": [],
   "source": [
    "# Importing numpy package\n",
    "import numpy as np\n",
    "\n",
    "# Creating a 1D numpy array\n",
    "array = np.array([1, 2, 3, 4, 5])\n",
    "\n",
    "# Print the array\n",
    "print(\"Numpy Array:\", array)"
   ]
  },
  {
   "cell_type": "markdown",
   "metadata": {
    "id": "tHnjH5rM3eXQ"
   },
   "source": [
    "### 2. OpenCV Example:\n",
    "This example shows how to import opencv (OpenCV) and read an image."
   ]
  },
  {
   "cell_type": "code",
   "execution_count": null,
   "metadata": {
    "colab": {
     "base_uri": "https://localhost:8080/",
     "height": 827
    },
    "executionInfo": {
     "elapsed": 1784,
     "status": "ok",
     "timestamp": 1743156674049,
     "user": {
      "displayName": "Abilash Madavath",
      "userId": "08402627640747827200"
     },
     "user_tz": -60
    },
    "id": "ECfmTgs23iUN",
    "outputId": "28033fb0-defc-4316-ab82-82282412c947"
   },
   "outputs": [],
   "source": [
    "# Importing opencv package\n",
    "import cv2\n",
    "from google.colab.patches import cv2_imshow\n",
    "\n",
    "# Reading an image using OpenCV\n",
    "image = cv2.imread('Data/Sample_Image_office.jpg')\n",
    "\n",
    "# Show the image in a window\n",
    "cv2_imshow(image)\n",
    "\n",
    "# Wait for a key press and close the window\n",
    "# cv2.waitKey(0)\n",
    "# cv2.destroyAllWindows()"
   ]
  },
  {
   "cell_type": "markdown",
   "metadata": {
    "id": "8l3e_JPr4_op"
   },
   "source": [
    "## Capturing from Webcam"
   ]
  },
  {
   "cell_type": "code",
   "execution_count": null,
   "metadata": {
    "executionInfo": {
     "elapsed": 2,
     "status": "ok",
     "timestamp": 1743156766498,
     "user": {
      "displayName": "Abilash Madavath",
      "userId": "08402627640747827200"
     },
     "user_tz": -60
    },
    "id": "EBewoKBZPTXw"
   },
   "outputs": [],
   "source": [
    "from IPython.display import display, Javascript\n",
    "from google.colab.output import eval_js\n",
    "from base64 import b64decode\n",
    "\n",
    "def take_photo(filename='photo.jpg', quality=0.8):\n",
    "  js = Javascript('''\n",
    "    async function takePhoto(quality) {\n",
    "      const div = document.createElement('div');\n",
    "      const capture = document.createElement('button');\n",
    "      capture.textContent = 'Capture';\n",
    "      div.appendChild(capture);\n",
    "\n",
    "      const video = document.createElement('video');\n",
    "      video.style.display = 'block';\n",
    "      const stream = await navigator.mediaDevices.getUserMedia({video: true});\n",
    "\n",
    "      document.body.appendChild(div);\n",
    "      div.appendChild(video);\n",
    "      video.srcObject = stream;\n",
    "      await video.play();\n",
    "\n",
    "      // Resize the output to fit the video element.\n",
    "      google.colab.output.setIframeHeight(document.documentElement.scrollHeight, true);\n",
    "\n",
    "      // Wait for Capture to be clicked.\n",
    "      await new Promise((resolve) => capture.onclick = resolve);\n",
    "\n",
    "      const canvas = document.createElement('canvas');\n",
    "      canvas.width = video.videoWidth;\n",
    "      canvas.height = video.videoHeight;\n",
    "      canvas.getContext('2d').drawImage(video, 0, 0);\n",
    "      stream.getVideoTracks()[0].stop();\n",
    "      div.remove();\n",
    "      return canvas.toDataURL('image/jpeg', quality);\n",
    "    }\n",
    "    ''')\n",
    "  display(js)\n",
    "  data = eval_js('takePhoto({})'.format(quality))\n",
    "  binary = b64decode(data.split(',')[1])\n",
    "  with open(filename, 'wb') as f:\n",
    "    f.write(binary)\n",
    "  return filename"
   ]
  },
  {
   "cell_type": "code",
   "execution_count": null,
   "metadata": {
    "colab": {
     "base_uri": "https://localhost:8080/",
     "height": 515
    },
    "executionInfo": {
     "elapsed": 17446,
     "status": "ok",
     "timestamp": 1743156829143,
     "user": {
      "displayName": "Abilash Madavath",
      "userId": "08402627640747827200"
     },
     "user_tz": -60
    },
    "id": "6E0Y0x_7PTXw",
    "outputId": "a1adac78-d023-4b92-d342-bc0e140ea2bc"
   },
   "outputs": [],
   "source": [
    "from IPython.display import Image\n",
    "try:\n",
    "  filename = take_photo()\n",
    "  print('Saved to {}'.format(filename))\n",
    "\n",
    "  # Show the image which was just taken.\n",
    "  display(Image(filename))\n",
    "except Exception as err:\n",
    "  # Errors will be thrown if the user does not have a webcam or if they do not\n",
    "  # grant the page permission to access it.\n",
    "  print(str(err))"
   ]
  }
 ],
 "metadata": {
  "colab": {
   "provenance": []
  },
  "kernelspec": {
   "display_name": "Python 3",
   "name": "python3"
  },
  "language_info": {
   "name": "python"
  }
 },
 "nbformat": 4,
 "nbformat_minor": 0
}
