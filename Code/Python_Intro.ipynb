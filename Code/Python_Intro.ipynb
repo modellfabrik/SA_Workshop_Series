{
 "cells": [
  {
   "cell_type": "code",
   "execution_count": null,
   "metadata": {},
   "outputs": [],
   "source": [
    "!git clone https://github.com/modellfabrik/SA_Workshop_Series.git"
   ]
  },
  {
   "cell_type": "markdown",
   "metadata": {
    "id": "nu8HWZLTySwz"
   },
   "source": [
    "### Was ist Colab?\n",
    "Colab, oder \"Colaboratory\", ermöglicht es euch, Python im Browser zu schreiben und auszuführen, mit:\n",
    "\n",
    "* Null Konfiguration erforderlich\n",
    "* Kostenloser Zugang zu GPUs\n",
    "* Einfaches Teilen\n",
    "\n",
    "##Eine Aussage drucken\n",
    "\n",
    "Um \"Hello, AI Enthusiasts!\" als Ausgabe anzuzeigen.\n",
    "\n",
    "Code: `print(\"Hello, AI Enthusiasts!\")`\n",
    "\n",
    "Ausgabe:\n",
    "Hello, AI Enthusiasts!"
   ]
  },
  {
   "cell_type": "code",
   "execution_count": null,
   "metadata": {
    "colab": {
     "base_uri": "https://localhost:8080/"
    },
    "executionInfo": {
     "elapsed": 40,
     "status": "ok",
     "timestamp": 1743156976754,
     "user": {
      "displayName": "Abilash Madavath",
      "userId": "08402627640747827200"
     },
     "user_tz": -60
    },
    "id": "u752RFODyO27",
    "outputId": "dd650fab-2572-4070-a50b-a85c8f885df6"
   },
   "outputs": [],
   "source": [
    "print(\"Hello, AI Enthusiasts!\")"
   ]
  },
  {
   "cell_type": "markdown",
   "metadata": {
    "id": "NALdHXKP0alQ"
   },
   "source": [
    "## Variablen & Datentypen\n",
    "In Python werden Variablen verwendet, um Datenwerte zu speichern, und sie sind dynamisch typisiert, was bedeutet, dass ihr deren Typ nicht explizit deklarieren müsst. Datentypen in Python umfassen Integers, Floats, Strings, Lists, Tuples, Dictionaries und mehr, die jeweils unterschiedliche Zwecke in der Programmierung erfüllen.\n",
    "\n",
    "### Zwei Zahlen addieren"
   ]
  },
  {
   "cell_type": "code",
   "execution_count": null,
   "metadata": {
    "colab": {
     "base_uri": "https://localhost:8080/"
    },
    "executionInfo": {
     "elapsed": 8,
     "status": "ok",
     "timestamp": 1743156274520,
     "user": {
      "displayName": "Abilash Madavath",
      "userId": "08402627640747827200"
     },
     "user_tz": -60
    },
    "id": "WpI00Q-70I2Q",
    "outputId": "616f82bc-9b6d-417f-caba-47148f7c0929"
   },
   "outputs": [],
   "source": [
    "x = 2\n",
    "y = 5\n",
    "\n",
    "print(x+y)"
   ]
  },
  {
   "cell_type": "markdown",
   "metadata": {
    "id": "uNVRFHET1BGw"
   },
   "source": [
    "## Funktionen\n",
    "In Python sind Funktionen wiederverwendbare Codeblöcke, die eine spezifische Aufgabe ausführen und mit dem Schlüsselwort `def` definiert werden."
   ]
  },
  {
   "cell_type": "code",
   "execution_count": null,
   "metadata": {
    "colab": {
     "base_uri": "https://localhost:8080/"
    },
    "executionInfo": {
     "elapsed": 17,
     "status": "ok",
     "timestamp": 1743156421195,
     "user": {
      "displayName": "Abilash Madavath",
      "userId": "08402627640747827200"
     },
     "user_tz": -60
    },
    "id": "tMQ2szKL1HW2",
    "outputId": "7d6b063a-537d-4b95-aaed-ff41599d7317"
   },
   "outputs": [],
   "source": [
    "def greetings(name):\n",
    "    return \"Hallo, \" + name + \"!\"\n",
    "\n",
    "print(greetings(\"Abi\"))"
   ]
  },
  {
   "cell_type": "markdown",
   "metadata": {
    "id": "1kWUU-YB2Tfe"
   },
   "source": [
    "## Python Packages\n",
    "\n",
    "* Python hat vorgefertigte Bibliotheken (Packages).\n",
    "* Vermeidet es, alles von Grund auf neu zu schreiben!\n",
    "\n",
    "### 1. Numpy Beispiel:\n",
    "Dieses Beispiel zeigt, wie ihr numpy importiert und ein einfaches Array erstellt."
   ]
  },
  {
   "cell_type": "code",
   "execution_count": null,
   "metadata": {
    "colab": {
     "base_uri": "https://localhost:8080/"
    },
    "executionInfo": {
     "elapsed": 12,
     "status": "ok",
     "timestamp": 1743156574919,
     "user": {
      "displayName": "Abilash Madavath",
      "userId": "08402627640747827200"
     },
     "user_tz": -60
    },
    "id": "gBNUgWAv2oLm",
    "outputId": "c8b87c7e-1036-4407-f044-c157bcbb05ab"
   },
   "outputs": [],
   "source": [
    "# Numpy-Bibliothek importieren\n",
    "import numpy as np\n",
    "\n",
    "# Erstellen eines 1D Numpy-Arrays\n",
    "array = np.array([1, 2, 3, 4, 5])\n",
    "\n",
    "# Das Array ausgeben\n",
    "print(\"Numpy Array:\", array)"
   ]
  },
  {
   "cell_type": "markdown",
   "metadata": {
    "id": "tHnjH5rM3eXQ"
   },
   "source": [
    "### 2. OpenCV Beispiel:\n",
    "Dieses Beispiel zeigt, wie ihr OpenCV (opencv) importiert und ein Bild einlest."
   ]
  },
  {
   "cell_type": "code",
   "execution_count": null,
   "metadata": {
    "colab": {
     "base_uri": "https://localhost:8080/",
     "height": 827
    },
    "executionInfo": {
     "elapsed": 1784,
     "status": "ok",
     "timestamp": 1743156674049,
     "user": {
      "displayName": "Abilash Madavath",
      "userId": "08402627640747827200"
     },
     "user_tz": -60
    },
    "id": "ECfmTgs23iUN",
    "outputId": "28033fb0-defc-4316-ab82-82282412c947"
   },
   "outputs": [],
   "source": [
    "# OpenCV-Bibliothek importieren\n",
    "import cv2\n",
    "from google.colab.patches import cv2_imshow\n",
    "\n",
    "# Bild mit OpenCV einlesen\n",
    "image = cv2.imread('Data/Sample_Image_office.jpg')\n",
    "\n",
    "# Das Bild in einem Fenster anzeigen\n",
    "cv2_imshow(image)"
   ]
  },
  {
   "cell_type": "markdown",
   "metadata": {
    "id": "8l3e_JPr4_op"
   },
   "source": [
    "## Bild vom Webcam aufnehmen"
   ]
  },
  {
   "cell_type": "code",
   "execution_count": null,
   "metadata": {
    "executionInfo": {
     "elapsed": 2,
     "status": "ok",
     "timestamp": 1743156766498,
     "user": {
      "displayName": "Abilash Madavath",
      "userId": "08402627640747827200"
     },
     "user_tz": -60
    },
    "id": "EBewoKBZPTXw"
   },
   "outputs": [],
   "source": [
    "from IPython.display import display, Javascript\n",
    "from google.colab.output import eval_js\n",
    "from base64 import b64decode\n",
    "\n",
    "def take_photo(filename='photo.jpg', quality=0.8):\n",
    "  js = Javascript('''\n",
    "    async function takePhoto(quality) {\n",
    "      const div = document.createElement('div');\n",
    "      const capture = document.createElement('button');\n",
    "      capture.textContent = 'Capture';\n",
    "      div.appendChild(capture);\n",
    "\n",
    "      const video = document.createElement('video');\n",
    "      video.style.display = 'block';\n",
    "      const stream = await navigator.mediaDevices.getUserMedia({video: true});\n",
    "\n",
    "      document.body.appendChild(div);\n",
    "      div.appendChild(video);\n",
    "      video.srcObject = stream;\n",
    "      await video.play();\n",
    "\n",
    "      // Resize the output to fit the video element.\n",
    "      google.colab.output.setIframeHeight(document.documentElement.scrollHeight, true);\n",
    "\n",
    "      // Wait for Capture to be clicked.\n",
    "      await new Promise((resolve) => capture.onclick = resolve);\n",
    "\n",
    "      const canvas = document.createElement('canvas');\n",
    "      canvas.width = video.videoWidth;\n",
    "      canvas.height = video.videoHeight;\n",
    "      canvas.getContext('2d').drawImage(video, 0, 0);\n",
    "      stream.getVideoTracks()[0].stop();\n",
    "      div.remove();\n",
    "      return canvas.toDataURL('image/jpeg', quality);\n",
    "    }\n",
    "    ''')\n",
    "  display(js)\n",
    "  data = eval_js('takePhoto({})'.format(quality))\n",
    "  binary = b64decode(data.split(',')[1])\n",
    "  with open(filename, 'wb') as f:\n",
    "    f.write(binary)\n",
    "  return filename"
   ]
  },
  {
   "cell_type": "code",
   "execution_count": null,
   "metadata": {
    "colab": {
     "base_uri": "https://localhost:8080/",
     "height": 515
    },
    "executionInfo": {
     "elapsed": 17446,
     "status": "ok",
     "timestamp": 1743156829143,
     "user": {
      "displayName": "Abilash Madavath",
      "userId": "08402627640747827200"
     },
     "user_tz": -60
    },
    "id": "6E0Y0x_7PTXw",
    "outputId": "a1adac78-d023-4b92-d342-bc0e140ea2bc"
   },
   "outputs": [],
   "source": [
    "from IPython.display import Image\n",
    "try:\n",
    "  filename = take_photo()\n",
    "  print('Saved to {}'.format(filename))\n",
    "\n",
    "  # Show the image which was just taken.\n",
    "  display(Image(filename))\n",
    "except Exception as err:\n",
    "  # Errors will be thrown if the user does not have a webcam or if they do not\n",
    "  # grant the page permission to access it.\n",
    "  print(str(err))"
   ]
  }
 ],
 "metadata": {
  "colab": {
   "provenance": []
  },
  "kernelspec": {
   "display_name": "Python 3",
   "name": "python3"
  },
  "language_info": {
   "name": "python"
  }
 },
 "nbformat": 4,
 "nbformat_minor": 0
}
